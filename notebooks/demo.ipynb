{
 "cells": [
  {
   "cell_type": "markdown",
   "id": "214887a5",
   "metadata": {},
   "source": [
    "## Loading Config"
   ]
  },
  {
   "cell_type": "code",
   "execution_count": 1,
   "id": "be0f625f",
   "metadata": {},
   "outputs": [
    {
     "data": {
      "text/plain": [
       "{'paths': {'data_dir': 'data/',\n",
       "  'raw_data_dir': '../data/raw/',\n",
       "  'filtered_data_dir': 'data/filtered/',\n",
       "  'chunk_data_dir': 'data/chunks/',\n",
       "  'model_dir': 'models/'},\n",
       " 'reddit_scraper': {'credentials': {'client_id': 'XyEwSDvEPKLGTYSfqoLZWg',\n",
       "   'client_secret': 'DW4m7X7RuuYDGxG51GlEMv_G6Pbq1A',\n",
       "   'user_agent': 'scraper'},\n",
       "  'search': {'subreddits': ['changemyview',\n",
       "    'AskReddit',\n",
       "    'PoliticalDiscussion'],\n",
       "   'queries': ['diversity equity inclusion',\n",
       "    'DEI',\n",
       "    'inclusion AND leadership'],\n",
       "   'sort': 'top',\n",
       "   'time_filter': 'all',\n",
       "   'limit': 20,\n",
       "   'rate_limit_delay': 0.1,\n",
       "   'filters': {'n_comments': 20,\n",
       "    'min_post_score': 20,\n",
       "    'min_comment_score': 10,\n",
       "    'min_char_length': 100}}},\n",
       " 'semantic_filter': {'topic': 'DEI',\n",
       "  'n_keywords': 5,\n",
       "  'similarity_threshold': 0.4,\n",
       "  'min_token_len': 70},\n",
       " 'chunker': 'None'}"
      ]
     },
     "execution_count": 1,
     "metadata": {},
     "output_type": "execute_result"
    }
   ],
   "source": [
    "from pathlib import Path\n",
    "import sys \n",
    "import os \n",
    "import yaml \n",
    "\n",
    "# define rooth path \n",
    "root = Path(os.getcwd()).parent\n",
    "sys.path.insert(0, str(root))\n",
    "\n",
    "# load config \n",
    "config_path = root / \"configs/config.yaml\"\n",
    "with open(config_path) as f: \n",
    "    config = yaml.safe_load(f)\n",
    "\n",
    "config"
   ]
  },
  {
   "cell_type": "markdown",
   "id": "931ac0b8",
   "metadata": {},
   "source": [
    "## Collecting dataset"
   ]
  },
  {
   "cell_type": "code",
   "execution_count": null,
   "id": "31e80a01",
   "metadata": {},
   "outputs": [],
   "source": [
    "from src.utils.data_handler import DataHandler\n",
    "from src.scrapers.reddit_scraper import RedditScraper\n",
    "from src.kb_builder.semantic_filter import SemanticFilter\n",
    "from src.kb_builder.chunker import Chunker\n",
    "from src.RAG.retriever import Retriever\n",
    "from src.RAG.QA_generator import QAgenerator"
   ]
  },
  {
   "cell_type": "code",
   "execution_count": 3,
   "id": "cce346ab",
   "metadata": {},
   "outputs": [
    {
     "name": "stdout",
     "output_type": "stream",
     "text": [
      "Collecting data...\n",
      "Removing duplicate posts...\n",
      "Scraping completed!\n",
      "Number of raw data entries: 470\n",
      "\n",
      "Example: \n",
      "\n",
      "{'id': 'reddit_otbfy2', 'type': 'post', 'source': 'reddit', 'subreddit': 'changemyview', 'title': 'CMV: Micro-aggressions should take intent into account.', 'text': 'I was required by my company to participate in DEI (Diversity Equity and Inclusion) training that stated, \"It does not matter what the aggressor intended, harm was caused.\" While I understand where this logic comes from, it is a poor principle for the workplace, justice, or society.\\n\\nLet me use a non-racial analogy: You tripped me.\\n\\nLet\\'s say I am walking past you sitting down. Our legs make contact and I trip and fall. Let\\'s look at some possible intents:\\n\\n1. You didn\\'t see me coming and accidentally tripped me, apologized for the accident, and helped me up.\\n2. You did see me coming, intended to trip me, laughed as I fell, and did not help me up.\\n3. I saw your legs were there, could have slightly altered my path in order not to trip, and tripped over your legs purposefully with the intent to shame you for having your legs in my path.\\n\\nAccording to the \"intent does not matter\" logic, all of these scenarios deserve equal treatment. This is obviously wrong to me. Treating someone who does not intend to cause harm as harshly as someone who does is unjust.\\n\\nAnd while this point is ancillary, this \"intent does not matter\" logic alienates would-be supporters of DEI goals.\\n\\nEdit: Wow. This is a very hot issue. Love a lot of the discussion. Let me summarize how my view has changed.\\n\\nThere are people out there who believe that racism cannot exist unless there is explicit intent to be racist. This has never been my position. Much of what the DEI folks were trying to communicate was that racism, and some other isms, can exist and cause some harm, even if harm was not intended. To this point I also agree.\\n\\nSo while this person (a consultant BTW and not an actual employee or manager) might have over stepped linguistically to try and emphasize a point, most people do not believe that Justice and punishment should be blind to intent. Some exist, but that perspective is rare, especially off of the internet.', 'author': 'beesdaddy', 'url': 'https://www.reddit.com/r/changemyview/comments/otbfy2/cmv_microaggressions_should_take_intent_into/', 'score': 3850, 'created_utc': 1627483801.0, 'thread_id': 'reddit_otbfy2', 'parent_id': None}\n"
     ]
    }
   ],
   "source": [
    "# scrape reddit & save raw data\n",
    "scraper = RedditScraper(\n",
    "    data_dir=config['paths']['data_dir'],\n",
    "    scraper_config=config['reddit_scraper']\n",
    "    )\n",
    "\n",
    "raw_data = scraper.scrape(save_results=False)\n",
    "\n",
    "print(f\"Number of raw data entries: {len(raw_data)}\")\n",
    "print(\"\\nExample: \\n\")\n",
    "print(raw_data[0])"
   ]
  },
  {
   "cell_type": "code",
   "execution_count": 4,
   "id": "a36ed953",
   "metadata": {},
   "outputs": [
    {
     "name": "stdout",
     "output_type": "stream",
     "text": [
      "Models successfully loaded.\n",
      "Semantic filtering completed!\n",
      "Number of filtered data entries: 150\n",
      "\n",
      "Example: \n",
      "\n",
      "Text keywords: ['minorities', 'ethnicities', 'ethnic', 'racism', 'racial', 'racist']\n",
      "Similarity score: 0.6384389996528625\n"
     ]
    }
   ],
   "source": [
    "# filter raw data on semantic criteria \n",
    "semantic_filter = SemanticFilter(\n",
    "    data_dir=config[\"paths\"][\"data_dir\"],\n",
    "    model_dir=config['paths']['model_dir'],\n",
    "    data=raw_data,\n",
    "    semantic_filter_config=config['semantic_filter']\n",
    ")\n",
    "\n",
    "filtered_data = semantic_filter.filter(save_results=False) \n",
    "\n",
    "print(f\"Number of filtered data entries: {len(filtered_data)}\")\n",
    "print(\"\\nExample: \\n\")\n",
    "print(f\"Text keywords: {filtered_data[0][\"text_keywords\"]}\")\n",
    "print(f\"Similarity score: {filtered_data[0][\"topic_similarity_score\"]}\")"
   ]
  },
  {
   "cell_type": "code",
   "execution_count": 5,
   "id": "b6c84a3f",
   "metadata": {},
   "outputs": [
    {
     "name": "stdout",
     "output_type": "stream",
     "text": [
      "Number of Chunks: 150\n",
      "\n",
      "Example: \n",
      "\n",
      "{'id': 'chunk_reddit_1hsaw8u_0', 'source_id': 'reddit_1hsaw8u', 'source_type': 'post', 'subreddit': 'changemyview', 'text': 'Based on my personal experience, what I\\'ve been hearing from my relatives, friends and co-workers, and also what I\\'ve read online on various forums, blogs, social media posts, I strongly believe that non-white countries are a lot more ignorant toward \"minorities\" or people who are considered non-white. In modern days most white countries would gladly accept immigrants and politically and socially they have dedicated laws and resources that are meant to help immigrants. Since the majority of white countries have a history of colonizing the world, modern history and social culture focus a lot on the sentiment of accepting people who are different than you, or simply the idea of racial/ethnic diversity and inclusion when it comes to representation and treatment. The school system or general education emphasizes on that, and all the organizations and firms would also follow and do the same(even if they have ulterior motive/not being genuine). As long as you grow up in a modern environment, you will learn about racism and that miniorities are perceived as \"vulnerable\" and there is this idea of treating people with respect no matter their cultural background, skin color, language etc.\\n\\nMost white countries are diverse and have a lot of non-white citizens and migrants who yet to obtain their documents. In contrast, non-white countries are less immigrant-friendly and hence the society generally is not very aware of the aforementioned ideology/concept related to diversity, inclusion, racism etc.\\n\\nIn Japan for example, there are restaurants can out right say no to people who look foreign(especially those with darker skintones) to them and use the \"no foreigner\" excuse to deny non-Japanese customers in the disguise of xenophobia. Such excuse would not be acceptable in western society. If a restaurant owner from UK, France, U.S, Canada denies someone who is foreign from entering their restaurant just because they are a foreigner or in the worst case that they believe they look foreign by their ethnicity, they will get sued and exposed on social media, and by laws and societal standards they will lose their license to operate.\\n\\nA Taiwanese friend of mine also told me that he has experienced way more casual/systematic racism in Congo than in other european countries he has lived in(he travels around because he works as an intepreter for a logistic company). From being stopped by police and asked to pay dirty money since he looks asian, to being denied rental housing even though his paperwork was perfect to Congolese casually pulling their eyes and mimick chinese person speaking, the incident amount is absurd as opposed to what he experienced in Canada, U.S and New Zealand. Such contrast of racist incidents are also reported a lot by my other friends who are from different ethnicities and a particular Pakistani friend who has very dark skin of mine said he was denied multiple jobs when he was working in UAE because his employers outright prefer to hire white caucasian, arab or even east asian workers because \"it makes the company looks more professional\". There are no specific laws that will define prejudice/racism in many context in these countries and even if they are, many can get away with it and the society as whole does not put enough emphasis to fight agianst racial/ethnic discirmination like what the western society does.\\n\\nIn conclusion, I believe non-white countries are a lot more racist than white countries, and its not just limited to casual, day to day personal racism but also systematic racism, whether it stems from ignorance, historical/cultural context, colorism, pure hatred or a combination of the aforementioned. (See how China can outright limits the freedom of any ethnic minorities or lock away foreigners as the authority deems so, or that African countries can infringe the rights of white/non-black citizens or that the fact non-white countries do not have enough immigrant politicians in the government because people do not vote for them and they gain no power and favorism even in elections etc).', 'chunk_index': 0, 'chunk_count': 1, 'merge_ids': [], 'created_utc': 1735868750.0, 'score': 3157, 'thread_id': 'reddit_1hsaw8u', 'parent_id': None}\n"
     ]
    }
   ],
   "source": [
    "# chunk \n",
    "chunker = Chunker(\n",
    "    data_dir=config[\"paths\"][\"data_dir\"],\n",
    "    data=filtered_data,\n",
    ")\n",
    "\n",
    "chunks = chunker.chunk(save_results=False)\n",
    "\n",
    "print(f\"Number of Chunks: {len(chunks)}\")\n",
    "print(\"\\nExample: \\n\")\n",
    "print(chunks[0])"
   ]
  },
  {
   "cell_type": "markdown",
   "id": "21e3dee8",
   "metadata": {},
   "source": [
    "## Synthetic QA text generation"
   ]
  },
  {
   "cell_type": "code",
   "execution_count": null,
   "id": "0976ab2f",
   "metadata": {},
   "outputs": [
    {
     "name": "stdout",
     "output_type": "stream",
     "text": [
      "Created new collection: temp_collection\n",
      "Successfully loaded 150 documents into Chroma\n"
     ]
    }
   ],
   "source": [
    "generator = QAgenerator(\n",
    "    retriever=Retriever, \n",
    "    data=chunks,\n",
    "    model_dir=config[\"paths\"][\"model_dir\"]\n",
    ")"
   ]
  },
  {
   "cell_type": "code",
   "execution_count": 7,
   "id": "bc71aa58",
   "metadata": {},
   "outputs": [
    {
     "name": "stdout",
     "output_type": "stream",
     "text": [
      "Q: In your opinion, what is effective in DEI communication and implementation at this company, and what is not effective?\n",
      "A: Effective DEI communication includes clear goals, measurable progress, and accountability. I've seen it work when everyone is committed to understanding and addressing biases, and when there's a culture of respect and inclusion. However, some DEI initiatives at this company have been vague or performative, lacking substance and impact. It's crucial that we focus on real change rather than just checking boxes.\n",
      "\n",
      "\n",
      "Q: In your opinion, what is effective in DEI communication and implementation at this company, and what is not effective?\n",
      "A: While I acknowledge the importance of DEI communication and implementation, I'm skeptical about the impact of empty announcements. Instead, I believe in focusing on tangible actions that demonstrate a company's commitment to diversity, equity, and inclusion. It's crucial for companies to walk the talk and not just talk the talk. However, I also recognize the strategic value of supporting or opposing DEI based on sincere beliefs rather than political affiliations. Ultimately, both communication and implementation should be evaluated holistically, considering both words and actions.\n",
      "\n",
      "\n",
      "Q: In your opinion, what is effective in DEI communication and implementation at this company, and what is not effective?\n",
      "A: Effective DEI at our company includes initiatives like expanding recruitment channels, providing accommodations for disabilities, and fostering employee affinity groups. These actions promote an inclusive environment where everyone feels valued. However, the use of quotas or lowering qualifications based on race is not effective and can lead to unintended consequences, such as resentment and a lack of trust. Transparency and clear communication about DEI efforts are essential for success.\n",
      "\n",
      "\n",
      "Q: In your opinion, what is effective in DEI communication and implementation at this company, and what is not effective?\n",
      "A: Effective DEI communication starts with a clear definition of the terms, like DEI and nepotism. It's essential to recognize that DEI aims to remove biases and ensure qualified candidates get opportunities, while nepotism is about unqualified individuals benefiting from their connections. Implementation can include training programs, diverse hiring practices, and inclusive policies. However, it's crucial not to confuse the two concepts or create a quota system that may undermine merit-based hiring.\n",
      "\n",
      "\n"
     ]
    }
   ],
   "source": [
    "topic = \"Diversity, Equity, and Inclusion (DEI)\"\n",
    "\n",
    "question = \"In your opinion, what is effective in DEI communication and implementation at this company, and what is not effective?\"\n",
    "answers = generator.generate(query=question, topic=topic, n_documents=4)\n",
    "\n",
    "for a in answers: \n",
    "    print(f\"Q: {question}\\nA: {a}\\n\\n\")"
   ]
  },
  {
   "cell_type": "markdown",
   "id": "f6ccbb27",
   "metadata": {},
   "source": [
    "### "
   ]
  }
 ],
 "metadata": {
  "kernelspec": {
   "display_name": ".env",
   "language": "python",
   "name": "python3"
  },
  "language_info": {
   "codemirror_mode": {
    "name": "ipython",
    "version": 3
   },
   "file_extension": ".py",
   "mimetype": "text/x-python",
   "name": "python",
   "nbconvert_exporter": "python",
   "pygments_lexer": "ipython3",
   "version": "3.12.1"
  }
 },
 "nbformat": 4,
 "nbformat_minor": 5
}
